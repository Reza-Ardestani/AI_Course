{
  "nbformat": 4,
  "nbformat_minor": 0,
  "metadata": {
    "colab": {
      "name": "8_puzzle.ipynb",
      "provenance": [],
      "collapsed_sections": [],
      "authorship_tag": "ABX9TyPi+YzeqZBAv5oObkdSwyVy"
    },
    "kernelspec": {
      "name": "python3",
      "display_name": "Python 3"
    }
  },
  "cells": [
    {
      "cell_type": "markdown",
      "metadata": {
        "id": "ptjtwrqwW9uj"
      },
      "source": [
        "# AUT AI Course\r\n",
        "\r\n",
        "why some permutations might be imposible:\r\n",
        "[link](https://www.youtube.com/watch?v=YI1WqYKHi78)\r\n",
        "\r\n"
      ]
    },
    {
      "cell_type": "markdown",
      "metadata": {
        "id": "OnDAmoglXsWz"
      },
      "source": [
        "## solving with branch and bound"
      ]
    },
    {
      "cell_type": "code",
      "metadata": {
        "id": "vgi3AVq7Q43Y"
      },
      "source": [
        "''' importing libraries''' \r\n",
        "import random # for generating random board \r\n"
      ],
      "execution_count": 2,
      "outputs": []
    },
    {
      "cell_type": "code",
      "metadata": {
        "id": "8AOGhkVgd-MX"
      },
      "source": [
        "class Board: \r\n",
        "  costOfBoard = [0,0,0,0]\r\n",
        "  def __init__(self,structure , goal, costs, funcName , x,es):\r\n",
        "    self.costOfBoard = costs\r\n",
        "    self.structure = structure\r\n",
        "    self.goal = goal\r\n",
        "    self.funcName = funcName\r\n",
        "    self.size = x #board is x*x \r\n",
        "    self.es = es #Empty spot location on the board\r\n",
        "\r\n",
        "  def calculateCost(self, funcName):\r\n",
        "    #based on the name of the cost-function we call functions\r\n",
        "    pass\r\n",
        "\r\n",
        "  def depthCost(self):\r\n",
        "    # adding 1 cost for each\r\n",
        "    pass\r\n",
        "\r\n",
        "  def inPlaceCost(self):\r\n",
        "    pass \r\n",
        "\r\n",
        "  def depth_placeCost(self):\r\n",
        "    pass\r\n",
        "\r\n",
        "  def manhatanCost(self):\r\n",
        "    pass\r\n",
        "\r\n",
        "\r\n",
        "  def childGenerator(self,visitedBoards):\r\n",
        "    #generate all posible childs and return them\r\n",
        "    #we can also remove repeated boards before returning them\r\n",
        "    #for those boards that we're gonna return call thier cost func\r\n",
        "    # return listOfChildrens\r\n",
        "    pass "
      ],
      "execution_count": null,
      "outputs": []
    },
    {
      "cell_type": "code",
      "metadata": {
        "id": "ADJbvtlOi-CT"
      },
      "source": [
        "\r\n",
        "class PuzzleTree:\r\n",
        "  #Due to the structure of this game,we only need to keep track of leaves\r\n",
        "  #funcName:{0,1,2,3} -> {Depth+Inplace , Inplace , Manhatan , All} \r\n",
        "  #  All means: (Depth+Inplace+Manhatan) \r\n",
        "  def __init__(self, initBoard , goal , funcName):\r\n",
        "    self.visitedBoards = []\r\n",
        "    self.aliveBoards = []\r\n",
        "    self.initB = initBoard\r\n",
        "    self.goalB = goal\r\n",
        "  #Try to solve. Return -1 for unsolvable cases\r\n",
        "  #Otherwise return len(visitedBoards)as the final cost of solving the puzzle\r\n",
        "  def solve(self, funcName):\r\n",
        "    pass\r\n",
        "   \r\n"
      ],
      "execution_count": null,
      "outputs": []
    },
    {
      "cell_type": "code",
      "metadata": {
        "colab": {
          "base_uri": "https://localhost:8080/"
        },
        "id": "f28AVKE-wnEy",
        "outputId": "b490e613-7a5f-45f8-ff0f-0fb7f3e73da4"
      },
      "source": [
        "# size of board X*X \r\n",
        "x = random.randint(3,5)\r\n",
        "print(x)\r\n",
        "\r\n",
        "sortedBoard = list(range(1,x*x+1)) #[ i for i in range(1,(x*x+1))]\r\n",
        "sortedBoard[x*x-1] = 0\r\n",
        "\r\n",
        "initBoard = sortedBoard.copy()\r\n",
        "random.shuffle(initBoard)\r\n",
        "goal =  sortedBoard.copy()\r\n",
        "random. shuffle(goal)\r\n",
        "print(sortedBoard , initBoard , goal)\r\n",
        "\r\n",
        "# Now call the puzzleTree on the init and goal board and pass different\r\n",
        "# cost fucntions to see which one perfomes better\r\n",
        "\r\n"
      ],
      "execution_count": 22,
      "outputs": [
        {
          "output_type": "stream",
          "text": [
            "3\n",
            "[1, 2, 3, 4, 5, 6, 7, 8, 0] [2, 6, 4, 1, 3, 8, 7, 0, 5] [0, 4, 2, 1, 3, 5, 7, 8, 6]\n"
          ],
          "name": "stdout"
        }
      ]
    },
    {
      "cell_type": "code",
      "metadata": {
        "colab": {
          "base_uri": "https://localhost:8080/"
        },
        "id": "J3NACeCixMHT",
        "outputId": "333ea197-8078-4b0a-ea93-70359c0e3af0"
      },
      "source": [
        "test = 123 \r\n",
        "class wishyWashy():\r\n",
        "  nope = 12\r\n",
        "  def __init__(self,nn):\r\n",
        "    self.nope = nn\r\n",
        "  def printit(self):\r\n",
        "    return test\r\n",
        "x = wishyWashy(11)\r\n",
        "#x.printit()\r\n",
        "print(x.nope)\r\n",
        "#print(nope)"
      ],
      "execution_count": 61,
      "outputs": [
        {
          "output_type": "stream",
          "text": [
            "11\n"
          ],
          "name": "stdout"
        }
      ]
    }
  ]
}