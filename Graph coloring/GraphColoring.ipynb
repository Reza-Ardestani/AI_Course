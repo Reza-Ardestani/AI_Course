{
  "nbformat": 4,
  "nbformat_minor": 0,
  "metadata": {
    "colab": {
      "name": "GraphColoring.ipynb",
      "provenance": [],
      "collapsed_sections": []
    },
    "kernelspec": {
      "name": "python3",
      "display_name": "Python 3"
    },
    "language_info": {
      "name": "python"
    }
  },
  "cells": [
    {
      "cell_type": "markdown",
      "metadata": {
        "id": "CBCzh9IrsgJ6"
      },
      "source": [
        "# Graph coloring using backtracking and approximation "
      ]
    },
    {
      "cell_type": "markdown",
      "metadata": {
        "id": "r5NF9zdrRS95"
      },
      "source": [
        "For a simple, connected, planar graph with v vertices and e edges and f faces, the following simple conditions hold for v ≥ 3:\n",
        "\n",
        "\n",
        "*   List item\n",
        "*   List item\n",
        "\n",
        "\n",
        "Theorem 1. e ≤ 3v − 6;"
      ]
    },
    {
      "cell_type": "markdown",
      "metadata": {
        "id": "MIX-qP5tNFPi"
      },
      "source": [
        "# importing libs"
      ]
    },
    {
      "cell_type": "code",
      "metadata": {
        "id": "vf-of7cJsfS0",
        "colab": {
          "base_uri": "https://localhost:8080/"
        },
        "outputId": "b6b591fa-7285-40de-bb7e-034b8dd340f8"
      },
      "source": [
        "!pip install planarity\n",
        "import random as rd\n",
        "import planarity # cheching planarity \n",
        "import networkx as nx # drawing graph\n",
        "import matplotlib.pyplot as plt # drawing helper"
      ],
      "execution_count": null,
      "outputs": [
        {
          "output_type": "stream",
          "text": [
            "Requirement already satisfied: planarity in /usr/local/lib/python3.7/dist-packages (0.4.1)\n",
            "Requirement already satisfied: setuptools in /usr/local/lib/python3.7/dist-packages (from planarity) (54.2.0)\n",
            "Requirement already satisfied: cython in /usr/local/lib/python3.7/dist-packages (from planarity) (0.29.22)\n"
          ],
          "name": "stdout"
        }
      ]
    },
    {
      "cell_type": "markdown",
      "metadata": {
        "id": "8YSA0dJqgLZm"
      },
      "source": [
        "# Random Planar graph generation \n"
      ]
    },
    {
      "cell_type": "code",
      "metadata": {
        "id": "H6CD2pZ4gSPa"
      },
      "source": [
        "### LAST VERSION  \n",
        "def pGraphGenerator(vert,iter):\n",
        "  #import planarity\n",
        "  #import random as rd\n",
        "  vertices = vert\n",
        "  iterations = iter\n",
        "  listOfGraphs = []\n",
        "  for r in range(iter):\n",
        "    availEdges = 3*vertices - 6 # Avilable edges, based on theorem_1\n",
        "    maxDegree = vertices -1 #Prevent self-loop\n",
        "    graphEdges = [] # list of tuples \n",
        "    #adding (i,j) edges to the empty graphs if it's possible\n",
        "    for i in range(0,vertices):\n",
        "      # rnd = random number for number of edges that node_i can have at most\n",
        "      rnd = rd.randint(0, maxDegree)\n",
        "      # Checking theorem1 and updating availEdges\n",
        "      if (rnd > availEdges):\n",
        "        if (availEdges == 0):\n",
        "          break\n",
        "        else:\n",
        "          rnd = availEdges\n",
        "      availEdges -= rnd\n",
        "      # generating nodes and checking planarity:\n",
        "      # candidates list \n",
        "      cand = rd.sample(list(range(0,i))+list(range(i+1,vertices)),rnd)\n",
        "      #if (i,canditade[j]) doesn't change planarity, we add it to the graph \n",
        "      for j in cand:\n",
        "        #Preventing parralel edge:\n",
        "        if ( ( (i,j) in graphEdges ) or ( (j,i) in graphEdges ) ):\n",
        "          pass # do nothing\n",
        "        else:\n",
        "          graphEdges.append( (i,j) )\n",
        "          if (not planarity.is_planar(graphEdges)):\n",
        "            graphEdges.pop()\n",
        "            # updating availEdges(we can even skip, and let it be sparse)\n",
        "            # availEdges +=1\n",
        "\n",
        "    listOfGraphs.append(graphEdges)\n",
        "\n",
        "  return listOfGraphs"
      ],
      "execution_count": null,
      "outputs": []
    },
    {
      "cell_type": "markdown",
      "metadata": {
        "id": "snwY8PWkgSps"
      },
      "source": [
        "# Minumum number of color "
      ]
    },
    {
      "cell_type": "markdown",
      "metadata": {
        "id": "fTqlDgGAfFfG"
      },
      "source": [
        "Note: unfortunately GeeksForGeeks code is wrong"
      ]
    },
    {
      "cell_type": "code",
      "metadata": {
        "id": "gYh10A7Hhi6s"
      },
      "source": [
        "''' ref : GeeksForGeeks'''\n",
        "'''https://www.geeksforgeeks.org/minimum-number-of-colors-required-to-color-a-graph/'''\n",
        "# This code is contributed by mohit kumar 29\n",
        "# Python3 program to find the minimum\n",
        "# number of colors needed to color\n",
        "# the graph\n",
        "from collections import deque\n",
        "\n",
        "# Function to count the minimum\n",
        "# number of color required\n",
        "def minimumColors(N, E, U, V):\n",
        "\n",
        "\t# Create array of vectors\n",
        "\t# to make adjacency list\n",
        "\tadj = [[] for i in range(N)]\n",
        "\n",
        "\t# Intialise colors array to 1\n",
        "\t# and count array to 0\n",
        "\tcount = [0]*N\n",
        "\tcolors = [1]*(N)\n",
        "\n",
        "\t# Create adjacency list of\n",
        "\t# a graph\n",
        "\tfor i in range(N):\n",
        "\t\tadj[V[i] - 1].append(U[i] - 1)\n",
        "\t\tcount[U[i] - 1] += 1\n",
        "\n",
        "\t# Declare queue Q\n",
        "\tQ = deque()\n",
        "\n",
        "\t# Traverse count[] and insert\n",
        "\t# in Q if count[i] = 0\n",
        "\tfor i in range(N):\n",
        "\t\tif (count[i] == 0):\n",
        "\t\t\tQ.append(i)\n",
        "\n",
        "\t# Traverse queue and update\n",
        "\t# the count of colors\n",
        "\t# adjacent node\n",
        "\twhile len(Q) > 0:\n",
        "\t\tu = Q.popleft()\n",
        "\n",
        "\t\t# Traverse node u\n",
        "\t\tfor x in adj[u]:\n",
        "\t\t\tcount[x] -= 1\n",
        "\n",
        "\t\t\t# If count[x] = 0\n",
        "\t\t\t# insert in Q\n",
        "\t\t\tif (count[x] == 0):\n",
        "\t\t\t\tQ.append(x)\n",
        "\n",
        "\t\t\t# If colors of child\n",
        "\t\t\t# node is less than\n",
        "\t\t\t# parent node, update\n",
        "\t\t\t# the count by 1\n",
        "\t\t\tif (colors[x] <= colors[u]):\n",
        "\t\t\t\tcolors[x] = 1 + colors[u]\n",
        "\n",
        "\t# Stores the minimumColors\n",
        "\t# requires to color the graph.\n",
        "\tminColor = -1\n",
        "\n",
        "\t# Find the maximum of colors[]\n",
        "\tfor i in range(N):\n",
        "\t\tminColor = max(minColor, colors[i])\n",
        "\n",
        "\t# Print the minimum no. of\n",
        "\t# colors required.\n",
        "\treturn (minColor)\n",
        "\n",
        "\n"
      ],
      "execution_count": null,
      "outputs": []
    },
    {
      "cell_type": "markdown",
      "metadata": {
        "id": "cHFfc_3Xjz1_"
      },
      "source": [
        "Why GeeksForGeeks.com's algorithm for finding minimum number of colors has a bug? \n",
        "\n",
        "You can test this following graph e and see the function returns 2 but actually we minimum number is 4.\n",
        "\n",
        "graph = [(0, 4), (0, 2), (0, 3), (1, 3), (1, 2), (2, 3), (2, 4), (3, 4)]\n",
        "This is a counterexample \n",
        "\n",
        "\n"
      ]
    },
    {
      "cell_type": "markdown",
      "metadata": {
        "id": "tVcvgaaahkQo"
      },
      "source": [
        "# Coloring maps using backtracking "
      ]
    },
    {
      "cell_type": "code",
      "metadata": {
        "id": "5X0XLjy-hllX"
      },
      "source": [
        "# subroutines: \n",
        "def adjacencyBuild( edgeList , vertices ):\n",
        "  # receive list of edges and return adj list of graph\n",
        "  graph = [ [0]*vertices]*vertices\n",
        "  for pair in edgeList:\n",
        "    graph[pair[0]] = pair[1]\n",
        "    graph[pair[1]] = pair[0] #adj matrix is symmetric\n",
        "\n",
        "# coloring process \n",
        "def IsSafe(nodeNum, c ,graph, nodesColor):\n",
        "  for endpointIndex,connected in enumerate(graph[nodenum]):\n",
        "     if (connected == 1 and nodesColor[endpointIndex] == c):\n",
        "       return False \n",
        "\n",
        "def coloring(nodeNum ,graph , colors, vertices , nodesColor):\n",
        "  for c in range(0,colors):\n",
        "    if (IsSafe(nodeNum , c ,graph, nodesColor)):\n",
        "      nodesColor[nodeNum] = c\n",
        "      if (nodeNum+1 < vertices):\n",
        "        coloring(nodeNum+1,graph , colors, vertices, nodesColor)\n",
        "      else:\n",
        "        return\n",
        "\n",
        "def graphColor( graph , colors, nodesColor):\n",
        "  # graph = an N*N adjacency matrix (list of lists)\n",
        "  # colors = number of colors that we have\n",
        "  vertices = len(graph)\n",
        "  coloring(0 ,graph , colors, vertices , nodesColor)\n",
        "  # result has already reflected to nodesColor\n"
      ],
      "execution_count": null,
      "outputs": []
    },
    {
      "cell_type": "markdown",
      "metadata": {
        "id": "dCrob5Kqjcp7"
      },
      "source": [
        "# My approximation algorithms for graph coloring problem"
      ]
    },
    {
      "cell_type": "markdown",
      "metadata": {
        "id": "EsY1QHsLXXhh"
      },
      "source": [
        "I just want to quickly elaborate on my idea about approximation algorithms. Furture development would be implementing this psudocode with python.\n",
        "The idea is to iterate over colors at first and in each iteration iterate over nodes such that at first we pick one color and try to paint all possible nodes (sorted by their priorities).And then after that we pick another color and paint all remaining nodes ,obviously those who are not adgacent, based on their priorities. \n",
        "Note: Priority of nodes is based on some heuristics like degree of node or other heuristics.\n",
        "\n",
        "note2: Since this method is relied on the heursitecs that we use and starting node we might fail to find the answer \n",
        "\n",
        "For estimating robustness of this estimation we should compare it with backtracking algorithm"
      ]
    },
    {
      "cell_type": "markdown",
      "metadata": {
        "id": "ZGCqrHRjXU4O"
      },
      "source": [
        "# Driver code "
      ]
    },
    {
      "cell_type": "code",
      "metadata": {
        "id": "J8g_0U3dg-iC"
      },
      "source": [
        "# Testing graph coloring function"
      ],
      "execution_count": null,
      "outputs": []
    },
    {
      "cell_type": "code",
      "metadata": {
        "id": "BTmFYm4NtZW9"
      },
      "source": [
        "# helper function: \n",
        "def helper(g ,numOfVert ):\n",
        "  N = numOfVert\n",
        "  E = len(g)\n",
        "  U, V = zip(*g) # unzipping g \n",
        "  return minimumColors(N, E, U, V)\n",
        "\n",
        "#Driver code\n",
        "NumberOfGraphs = 1\n",
        "numOfVert = 50\n",
        "graphs5Vert = pGraphGenerator(numOfVert,NumberOfGraphs)\n",
        "graphs5VertMinCol = [ helper(g , numOfVert) for g in graphs5Vert]\n",
        "#edgeList = []\n",
        "#graph = adjacencyBuild(edgeList, numVertices)\n",
        "##graphColor(graph , colors ,nodeColors) "
      ],
      "execution_count": null,
      "outputs": []
    },
    {
      "cell_type": "code",
      "metadata": {
        "colab": {
          "base_uri": "https://localhost:8080/"
        },
        "id": "Ficl44RjI70D",
        "outputId": "0992492e-676d-4f28-863b-158b71faf311"
      },
      "source": [
        "print(graphs5VertMinCol)"
      ],
      "execution_count": null,
      "outputs": [
        {
          "output_type": "stream",
          "text": [
            "[4]\n"
          ],
          "name": "stdout"
        }
      ]
    },
    {
      "cell_type": "code",
      "metadata": {
        "id": "_sGEE5xmJFOq",
        "colab": {
          "base_uri": "https://localhost:8080/",
          "height": 375
        },
        "outputId": "d89fea91-86f4-4559-b2de-687982a29117"
      },
      "source": [
        "def draw(edgess,i,Nodesname):\n",
        "  g = nx.Graph()\n",
        "  g.add_nodes_from(Nodesname)\n",
        "  g.add_edges_from(edgess) \n",
        "  nx.draw(g, node_size = 800, node_color=\"cyan\", with_labels = True)\n",
        "  plt.show()\n",
        "\n",
        "for index,g in enumerate(graphs5Vert):\n",
        "  print(g)\n",
        "  draw(g,index,[i for i in range(numOfVert)])\n",
        "  print(\"\")\n"
      ],
      "execution_count": null,
      "outputs": [
        {
          "output_type": "stream",
          "text": [
            "[(0, 49), (0, 21), (0, 22), (0, 33), (0, 42), (0, 7), (0, 39), (0, 12), (0, 45), (0, 36), (0, 31), (0, 25), (0, 35), (0, 15), (0, 5), (0, 4), (0, 19), (0, 8), (0, 28), (0, 1), (0, 30), (0, 32), (0, 9), (0, 46), (1, 41), (1, 6), (1, 15), (1, 25), (1, 46), (2, 30), (2, 47), (2, 39), (2, 32), (2, 22), (2, 25), (2, 26), (3, 18), (3, 24), (3, 33), (3, 31), (3, 1), (3, 8), (3, 35), (3, 41), (3, 44), (3, 17), (3, 0), (3, 6), (3, 30), (3, 49), (3, 38), (3, 46), (3, 21), (3, 25), (3, 43), (3, 20), (3, 27), (3, 7), (3, 47), (3, 23), (3, 36), (3, 5), (3, 12), (3, 14), (3, 29), (3, 42), (4, 11), (4, 18), (4, 13), (4, 8), (4, 21), (4, 14), (4, 28), (4, 40), (4, 19), (4, 48), (4, 23), (4, 16), (4, 3), (4, 9), (4, 29), (4, 34), (4, 38), (4, 24), (4, 37), (4, 17), (4, 20), (4, 27), (5, 12), (5, 31), (5, 43), (5, 10)]\n"
          ],
          "name": "stdout"
        },
        {
          "output_type": "display_data",
          "data": {
            "image/png": "[encoded data removed]",
            "text/plain": [
              "<Figure size 432x288 with 1 Axes>"
            ]
          },
          "metadata": {
            "tags": []
          }
        },
        {
          "output_type": "stream",
          "text": [
            "\n"
          ],
          "name": "stdout"
        }
      ]
    }
  ]
}